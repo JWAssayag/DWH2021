{
  "nbformat": 4,
  "nbformat_minor": 0,
  "metadata": {
    "colab": {
      "name": "AnaliseDWH.ipynb",
      "provenance": [],
      "collapsed_sections": []
    },
    "kernelspec": {
      "name": "python3",
      "display_name": "Python 3"
    },
    "language_info": {
      "name": "python"
    },
    "accelerator": "GPU"
  },
  "cells": [
    {
      "cell_type": "markdown",
      "metadata": {
        "id": "hTvQ8fSXSatV"
      },
      "source": [
        "O codigo , busca no site do Inep os dados dos respectivos anos atualizado , faz o donwload das pastas .zip e extrai tudo em uma pasta denominada de enade, pos isso as tabelas com todos os dados são atribuidas a uma variavel denominada inicalmente com \"enade\" sequido do ano, por exemplo enade2017 para os dados separados de 2017."
      ]
    },
    {
      "cell_type": "code",
      "metadata": {
        "id": "YSNrnOuEa6bN"
      },
      "source": [
        "import pandas as pd\n",
        "import matplotlib.pyplot as plt\n",
        "import numpy as np\n",
        "import zipfile\n",
        "import requests\n",
        "from io import BytesIO\n",
        "import os\n",
        "import plotly.graph_objs as go \n",
        "import plotly.offline as pyo\n",
        "\n",
        "os.makedirs(\"./enade\", exist_ok=True)\n",
        "\n",
        "url1=\"https://download.inep.gov.br/microdados/Enade_Microdados/microdados_enade_2019.zip\" \n",
        "url2=\"https://download.inep.gov.br/microdados/Enade_Microdados/microdados_enade_2018.zip\"\n",
        "url3=\"https://download.inep.gov.br/microdados/Enade_Microdados/microdados_Enade_2017_portal_2018.10.09.zip\"\n",
        "\n",
        "filebytes= BytesIO(requests.get(url1).content)\n",
        "myzip = zipfile.ZipFile(filebytes)\n",
        "myzip.extractall(\"./enade\")\n",
        "filebytes= BytesIO(requests.get(url2).content)\n",
        "myzip = zipfile.ZipFile(filebytes)\n",
        "myzip.extractall(\"./enade\")\n",
        "filebytes= BytesIO(requests.get(url3).content)\n",
        "myzip = zipfile.ZipFile(filebytes)\n",
        "myzip.extractall(\"./enade\")\n",
        "\n",
        "enade2017 = pd.read_csv(\"/content/enade/3.DADOS/MICRODADOS_ENADE_2017.txt\",sep = \";\", decimal = \",\")\n",
        "enade2018 = pd.read_csv(\"/content/enade/2018/3.DADOS/microdados_enade_2018.txt\",sep = \";\", decimal = \",\")\n",
        "enade2019 = pd.read_csv(\"/content/enade/3.DADOS/microdados_enade_2019.txt\",sep = \";\", decimal = \",\")"
      ],
      "execution_count": null,
      "outputs": []
    },
    {
      "cell_type": "markdown",
      "metadata": {
        "id": "v5TDHL-cYpvj"
      },
      "source": [
        "Após a coleta dos dados eles são tratados primeiramente concatenando todas as tabelas em uma unica tabela base para tratamento , em sequida é feita uma filtragem de colunas selecionadas e criada uma nova coluna utilizando o index de linha representando o codigo de incricão do estudante "
      ]
    },
    {
      "cell_type": "code",
      "metadata": {
        "id": "f5wkk0upyE-5"
      },
      "source": [
        "enadeBase = enade2017\n",
        "enadeBase = enadeBase.append(enade2018)\n",
        "enadeBase = enadeBase.append(enade2019)"
      ],
      "execution_count": null,
      "outputs": []
    },
    {
      "cell_type": "code",
      "metadata": {
        "id": "BI8GwReEoFct"
      },
      "source": [
        "enadeBase=enadeBase.iloc[:,[0,1,4,8,9,10,11,33,44,60,61,70,76,77,79]]\n",
        "enadeBase.reset_index(level=0, inplace=True)\n",
        "enadeBase = enadeBase.rename(columns={'index': 'Codigo inscrição do estudante'})"
      ],
      "execution_count": null,
      "outputs": []
    },
    {
      "cell_type": "code",
      "metadata": {
        "id": "EKCCPDqqXscS"
      },
      "source": [
        "enadeBase['CO_REGIAO_CURSO'] = enadeBase['CO_REGIAO_CURSO'].map({1:'Norte (NO)',2:'Nordeste (NE)',3:'Sudeste (SE)',4:'Sul (SUL)',5:'Centro-Oeste (CO)'},na_action=None)\n",
        "enadeBase['QE_I02'] = enadeBase['QE_I02'].map({\"A\":'Branca',\"B\":'Preta',\"C\":'Amarela',\"D\":'Parda',\"E\":'Indígena',\"F\":\"Não Declarada\"},na_action=None)\n",
        "enadeBase['CO_UF_CURSO'] = enadeBase['CO_UF_CURSO'].map({11:'Rondônia (RO)',12:'Acre (AC)',13:'Amazonas (AM)',14:'Roraima (RR)',15:'Pará (PA)',16:'Amapa (AP)',17:'Tocantins (TO)',21:'Maranhão (MA)',22:'Piauí (PI)',23:'Ceará (CE)',24:'Rio Grande do Norte (RN)',25:'Paraíba (PB)',26:'Pernambuco (PE)',27:'Alagoas (AL)',28:'Sergipe (SE)',29:' Bahia (BA)',31:'Minas gerais (MG)',32:'Espírito Santo (ES)',33:' Rio de Janeiro (RJ)',35:'São Paulo (SP)',41:' Paraná (PR)',42:' Santa Catarina (SC)',43:' Rio Grande do Sul (RS)',50:'Mato Grosso do Sul (MS)',51:'Mato Grosso (MT)',52:'Goiás (GO)',53:'Distrito federal (DF)'},na_action=None)\n",
        "enadeBase['TP_PRES'] = enadeBase['TP_PRES'].map({222:'Ausente',334:'Eliminado',444:'Ausente',555:'Presente',556:'Eliminado'},na_action=None)\n",
        "enadeBase['CO_RS_I1'] = enadeBase['CO_RS_I1'].map({'A':'Muito Fácil','B':'Fácil','C':'Médio','D':'Difícil','E':'Muito Difícil','.':'Sem resposta/Resposta anulada','*':'Sem resposta/Resposta anulada'},na_action=None)\n",
        "enadeBase['CO_RS_I2'] = enadeBase['CO_RS_I2'].map({'A':'Muito Fácil','B':'Fácil','C':'Médio','D':'Difícil','E':'Muito Difícil','.':'Sem resposta/Resposta anulada','*':'Sem resposta/Resposta anulada'},na_action=None)\n",
        "enadeBase['QE_I11'] = enadeBase['QE_I11'].map({'A':'Nenhuma, Curso Gratuito','B':'Nenhuma, Curso Pago','C':'ProUni integra','D':'ProUni parcial','E':'FIES','F':'ProUni Parcial e FIES','G':'Bolsa do estado, distrito ou municipio','H':'Bolsa da própria instituição','I':'Bolsa de entidades não governamentais','J':'Financiamento da própria instituição','K':'Financiamento bancário',np.nan: \"Não Respondido\"},na_action=None)"
      ],
      "execution_count": null,
      "outputs": []
    },
    {
      "cell_type": "code",
      "metadata": {
        "id": "G-liGFr6j2kb"
      },
      "source": [
        "DadosEstudante=enadeBase.iloc[:,[6,7,12]]\n",
        "Bolsa=enadeBase.iloc[:,[14]]\n",
        "Presença=enadeBase.iloc[:,[8]]\n",
        "Localidade=enadeBase.iloc[:,[4,5]]\n",
        "difEnade=enadeBase.iloc[:,[10,11]]\n",
        "Instituição=enadeBase.iloc[:,[2]]\n",
        "Ano=enadeBase.iloc[:,[1]]\n",
        "Curso=enadeBase.iloc[:,[3]]\n",
        "Notas=enadeBase.iloc[:,[9]]\n",
        "Renda=enadeBase.iloc[:,[13]]\n"
      ],
      "execution_count": null,
      "outputs": []
    },
    {
      "cell_type": "code",
      "metadata": {
        "id": "LPhySG7Itmws"
      },
      "source": [
        "import sqlite3\n",
        "from sqlite3 import Error\n",
        "conn = sqlite3.connect('BancoBase.db')\n",
        "enadeBase.to_sql('TabelaFato',conn,if_exists='replace',index=False)\n",
        "DadosEstudante.to_sql('CD_Estudante',conn,if_exists='replace',index=False)\n",
        "Bolsa.to_sql('CD_Bolsa',conn,if_exists='replace',index=False)\n",
        "Presença.to_sql('CD_Presença',conn,if_exists='replace',index=False)\n",
        "Localidade.to_sql('CD_Localidade',conn,if_exists='replace',index=False)\n",
        "difEnade.to_sql('CD_difEnade',conn,if_exists='replace',index=False)\n",
        "Instituição.to_sql('CD_Instituição',conn,if_exists='replace',index=False)\n",
        "Ano.to_sql('CD_Ano',conn,if_exists='replace',index=False)\n",
        "Curso.to_sql('CD_Curso',conn,if_exists='replace',index=False)\n",
        "Notas.to_sql('CD_Notas',conn,if_exists='replace',index=False)\n",
        "Renda.to_sql('CD_Renda',conn,if_exists='replace',index=False)"
      ],
      "execution_count": null,
      "outputs": []
    },
    {
      "cell_type": "code",
      "metadata": {
        "id": "Eo6uYWLe30fP"
      },
      "source": [
        "BolsasAno = enadeBase.iloc[:,[1,14]]\n"
      ],
      "execution_count": null,
      "outputs": []
    },
    {
      "cell_type": "code",
      "metadata": {
        "id": "IAYA4pbHxkn8"
      },
      "source": [
        "ano=BolsasAno.groupby(BolsasAno.NU_ANO)\n",
        "Ano2017 = ano.get_group(2017)\n",
        "Ano2018=ano.get_group(2018)\n",
        "Ano2019=ano.get_group(2019)\n",
        "Ano2017=Ano2017.groupby('QE_I11').count()\n",
        "Ano2018=Ano2018.groupby('QE_I11').count()\n",
        "Ano2019=Ano2019.groupby('QE_I11').count()\n",
        "Ano2017 = Ano2017.rename(columns={'NU_ANO': '2017'})\n",
        "Ano2018 = Ano2018.rename(columns={'NU_ANO': '2018'})\n",
        "Ano2019 = Ano2019.rename(columns={'NU_ANO': '2019'})\n",
        "Ano2017 = Ano2017.transpose()\n",
        "Ano2018 = Ano2018.transpose()\n",
        "Ano2019 = Ano2019.transpose()"
      ],
      "execution_count": null,
      "outputs": []
    },
    {
      "cell_type": "code",
      "metadata": {
        "id": "s_hm8kIbCm1N"
      },
      "source": [
        "Anos = Ano2017\n",
        "Anos = Anos.append(Ano2018)\n",
        "Anos = Anos.append(Ano2019)\n",
        "Anos.reset_index(level=0, inplace=True)\n",
        "Anos = Anos.rename(columns={'index': 'Anos'})"
      ],
      "execution_count": null,
      "outputs": []
    },
    {
      "cell_type": "code",
      "metadata": {
        "id": "tJAiNVJK40my"
      },
      "source": [
        "Grafico = go.Figure(\n",
        "   data=[\n",
        "       go.Bar(\n",
        "           x=Anos['Anos'],\n",
        "           y=Anos['Nenhuma, Curso Gratuito'],\n",
        "           name='Nenhuma, Curso Gratuito',\n",
        "           marker=dict(color='red')\n",
        "       ),\n",
        "       go.Bar(\n",
        "           x=Anos['Anos'],\n",
        "           y=Anos['Nenhuma, Curso Pago'],\n",
        "           name='Nenhuma, Curso Pago',\n",
        "           marker=dict(color='green')\n",
        "       ),\n",
        "       go.Bar(\n",
        "           x=Anos['Anos'],\n",
        "           y=Anos['ProUni integra'],\n",
        "           name='ProUni integra',\n",
        "           marker=dict(color='blue')\n",
        "       ),\n",
        "       go.Bar(\n",
        "           x=Anos['Anos'],\n",
        "           y=Anos['FIES'],\n",
        "           name='FIES',\n",
        "           marker=dict(color='orange')\n",
        "       ),\n",
        "       go.Bar(\n",
        "           x=Anos['Anos'],\n",
        "           y=Anos['ProUni Parcial e FIES'],\n",
        "           name='ProUni Parcial e FIES',\n",
        "           marker=dict(color='yellow')\n",
        "       ),\n",
        "       go.Bar(\n",
        "           x=Anos['Anos'],\n",
        "           y=Anos['Bolsa do estado, distrito ou municipio'],\n",
        "           name='Bolsa do estado, distrito ou municipio',\n",
        "           marker=dict(color='purple')\n",
        "       ),\n",
        "       go.Bar(\n",
        "           x=Anos['Anos'],\n",
        "           y=Anos['Bolsa da própria instituição'],\n",
        "           name='Bolsa da própria instituição',\n",
        "           marker=dict(color='gray')\n",
        "       ),\n",
        "       go.Bar(\n",
        "           x=Anos['Anos'],\n",
        "           y=Anos['Bolsa de entidades não governamentais'],\n",
        "           name='Bolsa de entidades não governamentais',\n",
        "           marker=dict(color='pink')\n",
        "       ),\n",
        "       go.Bar(\n",
        "           x=Anos['Anos'],\n",
        "           y=Anos['Financiamento da própria instituição'],\n",
        "           name='Financiamento da própria instituição',\n",
        "           marker=dict(color='coral')\n",
        "       ),\n",
        "       go.Bar(\n",
        "           x=Anos['Anos'],\n",
        "           y=Anos['Financiamento bancário'],\n",
        "           name='Financiamento bancário',\n",
        "           marker=dict(color='brown')\n",
        "       ),\n",
        "       go.Bar(\n",
        "           x=Anos['Anos'],\n",
        "           y=Anos['Não Respondido'],\n",
        "           name='Não Respondeu',\n",
        "           marker=dict(color='black')\n",
        "       ),\n",
        "   ],\n",
        "   layout=go.Layout(\n",
        "       \n",
        "   )\n",
        ")\n",
        "pyo.plot(Grafico)"
      ],
      "execution_count": null,
      "outputs": []
    },
    {
      "cell_type": "code",
      "metadata": {
        "colab": {
          "base_uri": "https://localhost:8080/",
          "height": 542
        },
        "id": "A0-K5XA5Pv_J",
        "outputId": "992a5163-4c04-4f27-8b41-aa54933e1f09"
      },
      "source": [
        "Grafico"
      ],
      "execution_count": null,
      "outputs": [
        {
          "output_type": "display_data",
          "data": {
            "text/html": [
              "<html>\n",
              "<head><meta charset=\"utf-8\" /></head>\n",
              "<body>\n",
              "    <div>\n",
              "            <script src=\"https://cdnjs.cloudflare.com/ajax/libs/mathjax/2.7.5/MathJax.js?config=TeX-AMS-MML_SVG\"></script><script type=\"text/javascript\">if (window.MathJax) {MathJax.Hub.Config({SVG: {font: \"STIX-Web\"}});}</script>\n",
              "                <script type=\"text/javascript\">window.PlotlyConfig = {MathJaxConfig: 'local'};</script>\n",
              "        <script src=\"https://cdn.plot.ly/plotly-latest.min.js\"></script>    \n",
              "            <div id=\"0b5d49c2-eebe-42b6-9069-457ffdb4f7f4\" class=\"plotly-graph-div\" style=\"height:525px; width:100%;\"></div>\n",
              "            <script type=\"text/javascript\">\n",
              "                \n",
              "                    window.PLOTLYENV=window.PLOTLYENV || {};\n",
              "                    \n",
              "                if (document.getElementById(\"0b5d49c2-eebe-42b6-9069-457ffdb4f7f4\")) {\n",
              "                    Plotly.newPlot(\n",
              "                        '0b5d49c2-eebe-42b6-9069-457ffdb4f7f4',\n",
              "                        [{\"marker\": {\"color\": \"red\"}, \"name\": \"Nenhuma, Curso Gratuito\", \"type\": \"bar\", \"x\": [\"2017\", \"2018\", \"2019\"], \"y\": [155492, 76035, 89268]}, {\"marker\": {\"color\": \"green\"}, \"name\": \"Nenhuma, Curso Pago\", \"type\": \"bar\", \"x\": [\"2017\", \"2018\", \"2019\"], \"y\": [142471, 176061, 107084]}, {\"marker\": {\"color\": \"blue\"}, \"name\": \"ProUni integra\", \"type\": \"bar\", \"x\": [\"2017\", \"2018\", \"2019\"], \"y\": [29050, 42369, 34379]}, {\"marker\": {\"color\": \"orange\"}, \"name\": \"FIES\", \"type\": \"bar\", \"x\": [\"2017\", \"2018\", \"2019\"], \"y\": [67023, 89113, 98771]}, {\"marker\": {\"color\": \"yellow\"}, \"name\": \"ProUni Parcial e FIES\", \"type\": \"bar\", \"x\": [\"2017\", \"2018\", \"2019\"], \"y\": [3504, 5492, 7047]}, {\"marker\": {\"color\": \"purple\"}, \"name\": \"Bolsa do estado, distrito ou municipio\", \"type\": \"bar\", \"x\": [\"2017\", \"2018\", \"2019\"], \"y\": [13756, 13116, 7590]}, {\"marker\": {\"color\": \"gray\"}, \"name\": \"Bolsa da pr\\u00f3pria institui\\u00e7\\u00e3o\", \"type\": \"bar\", \"x\": [\"2017\", \"2018\", \"2019\"], \"y\": [32860, 45518, 36654]}, {\"marker\": {\"color\": \"pink\"}, \"name\": \"Bolsa de entidades n\\u00e3o governamentais\", \"type\": \"bar\", \"x\": [\"2017\", \"2018\", \"2019\"], \"y\": [9674, 16000, 8516]}, {\"marker\": {\"color\": \"coral\"}, \"name\": \"Financiamento da pr\\u00f3pria institui\\u00e7\\u00e3o\", \"type\": \"bar\", \"x\": [\"2017\", \"2018\", \"2019\"], \"y\": [6126, 8518, 8533]}, {\"marker\": {\"color\": \"brown\"}, \"name\": \"Financiamento banc\\u00e1rio\", \"type\": \"bar\", \"x\": [\"2017\", \"2018\", \"2019\"], \"y\": [2138, 2682, 2967]}, {\"marker\": {\"color\": \"black\"}, \"name\": \"N\\u00e3o Respondeu\", \"type\": \"bar\", \"x\": [\"2017\", \"2018\", \"2019\"], \"y\": [69780.0, 62618.0, null]}],\n",
              "                        {\"template\": {\"data\": {\"bar\": [{\"error_x\": {\"color\": \"#2a3f5f\"}, \"error_y\": {\"color\": \"#2a3f5f\"}, \"marker\": {\"line\": {\"color\": \"#E5ECF6\", \"width\": 0.5}}, \"type\": \"bar\"}], \"barpolar\": [{\"marker\": {\"line\": {\"color\": \"#E5ECF6\", \"width\": 0.5}}, \"type\": \"barpolar\"}], \"carpet\": [{\"aaxis\": {\"endlinecolor\": \"#2a3f5f\", \"gridcolor\": \"white\", \"linecolor\": \"white\", \"minorgridcolor\": \"white\", \"startlinecolor\": \"#2a3f5f\"}, \"baxis\": {\"endlinecolor\": \"#2a3f5f\", \"gridcolor\": \"white\", \"linecolor\": \"white\", \"minorgridcolor\": \"white\", \"startlinecolor\": \"#2a3f5f\"}, \"type\": \"carpet\"}], \"choropleth\": [{\"colorbar\": {\"outlinewidth\": 0, \"ticks\": \"\"}, \"type\": \"choropleth\"}], \"contour\": [{\"colorbar\": {\"outlinewidth\": 0, \"ticks\": \"\"}, \"colorscale\": [[0.0, \"#0d0887\"], [0.1111111111111111, \"#46039f\"], [0.2222222222222222, \"#7201a8\"], [0.3333333333333333, \"#9c179e\"], [0.4444444444444444, \"#bd3786\"], [0.5555555555555556, \"#d8576b\"], [0.6666666666666666, \"#ed7953\"], [0.7777777777777778, \"#fb9f3a\"], [0.8888888888888888, \"#fdca26\"], [1.0, \"#f0f921\"]], \"type\": \"contour\"}], \"contourcarpet\": [{\"colorbar\": {\"outlinewidth\": 0, \"ticks\": \"\"}, \"type\": \"contourcarpet\"}], \"heatmap\": [{\"colorbar\": {\"outlinewidth\": 0, \"ticks\": \"\"}, \"colorscale\": [[0.0, \"#0d0887\"], [0.1111111111111111, \"#46039f\"], [0.2222222222222222, \"#7201a8\"], [0.3333333333333333, \"#9c179e\"], [0.4444444444444444, \"#bd3786\"], [0.5555555555555556, \"#d8576b\"], [0.6666666666666666, \"#ed7953\"], [0.7777777777777778, \"#fb9f3a\"], [0.8888888888888888, \"#fdca26\"], [1.0, \"#f0f921\"]], \"type\": \"heatmap\"}], \"heatmapgl\": [{\"colorbar\": {\"outlinewidth\": 0, \"ticks\": \"\"}, \"colorscale\": [[0.0, \"#0d0887\"], [0.1111111111111111, \"#46039f\"], [0.2222222222222222, \"#7201a8\"], [0.3333333333333333, \"#9c179e\"], [0.4444444444444444, \"#bd3786\"], [0.5555555555555556, \"#d8576b\"], [0.6666666666666666, \"#ed7953\"], [0.7777777777777778, \"#fb9f3a\"], [0.8888888888888888, \"#fdca26\"], [1.0, \"#f0f921\"]], \"type\": \"heatmapgl\"}], \"histogram\": [{\"marker\": {\"colorbar\": {\"outlinewidth\": 0, \"ticks\": \"\"}}, \"type\": \"histogram\"}], \"histogram2d\": [{\"colorbar\": {\"outlinewidth\": 0, \"ticks\": \"\"}, \"colorscale\": [[0.0, \"#0d0887\"], [0.1111111111111111, \"#46039f\"], [0.2222222222222222, \"#7201a8\"], [0.3333333333333333, \"#9c179e\"], [0.4444444444444444, \"#bd3786\"], [0.5555555555555556, \"#d8576b\"], [0.6666666666666666, \"#ed7953\"], [0.7777777777777778, \"#fb9f3a\"], [0.8888888888888888, \"#fdca26\"], [1.0, \"#f0f921\"]], \"type\": \"histogram2d\"}], \"histogram2dcontour\": [{\"colorbar\": {\"outlinewidth\": 0, \"ticks\": \"\"}, \"colorscale\": [[0.0, \"#0d0887\"], [0.1111111111111111, \"#46039f\"], [0.2222222222222222, \"#7201a8\"], [0.3333333333333333, \"#9c179e\"], [0.4444444444444444, \"#bd3786\"], [0.5555555555555556, \"#d8576b\"], [0.6666666666666666, \"#ed7953\"], [0.7777777777777778, \"#fb9f3a\"], [0.8888888888888888, \"#fdca26\"], [1.0, \"#f0f921\"]], \"type\": \"histogram2dcontour\"}], \"mesh3d\": [{\"colorbar\": {\"outlinewidth\": 0, \"ticks\": \"\"}, \"type\": \"mesh3d\"}], \"parcoords\": [{\"line\": {\"colorbar\": {\"outlinewidth\": 0, \"ticks\": \"\"}}, \"type\": \"parcoords\"}], \"pie\": [{\"automargin\": true, \"type\": \"pie\"}], \"scatter\": [{\"marker\": {\"colorbar\": {\"outlinewidth\": 0, \"ticks\": \"\"}}, \"type\": \"scatter\"}], \"scatter3d\": [{\"line\": {\"colorbar\": {\"outlinewidth\": 0, \"ticks\": \"\"}}, \"marker\": {\"colorbar\": {\"outlinewidth\": 0, \"ticks\": \"\"}}, \"type\": \"scatter3d\"}], \"scattercarpet\": [{\"marker\": {\"colorbar\": {\"outlinewidth\": 0, \"ticks\": \"\"}}, \"type\": \"scattercarpet\"}], \"scattergeo\": [{\"marker\": {\"colorbar\": {\"outlinewidth\": 0, \"ticks\": \"\"}}, \"type\": \"scattergeo\"}], \"scattergl\": [{\"marker\": {\"colorbar\": {\"outlinewidth\": 0, \"ticks\": \"\"}}, \"type\": \"scattergl\"}], \"scattermapbox\": [{\"marker\": {\"colorbar\": {\"outlinewidth\": 0, \"ticks\": \"\"}}, \"type\": \"scattermapbox\"}], \"scatterpolar\": [{\"marker\": {\"colorbar\": {\"outlinewidth\": 0, \"ticks\": \"\"}}, \"type\": \"scatterpolar\"}], \"scatterpolargl\": [{\"marker\": {\"colorbar\": {\"outlinewidth\": 0, \"ticks\": \"\"}}, \"type\": \"scatterpolargl\"}], \"scatterternary\": [{\"marker\": {\"colorbar\": {\"outlinewidth\": 0, \"ticks\": \"\"}}, \"type\": \"scatterternary\"}], \"surface\": [{\"colorbar\": {\"outlinewidth\": 0, \"ticks\": \"\"}, \"colorscale\": [[0.0, \"#0d0887\"], [0.1111111111111111, \"#46039f\"], [0.2222222222222222, \"#7201a8\"], [0.3333333333333333, \"#9c179e\"], [0.4444444444444444, \"#bd3786\"], [0.5555555555555556, \"#d8576b\"], [0.6666666666666666, \"#ed7953\"], [0.7777777777777778, \"#fb9f3a\"], [0.8888888888888888, \"#fdca26\"], [1.0, \"#f0f921\"]], \"type\": \"surface\"}], \"table\": [{\"cells\": {\"fill\": {\"color\": \"#EBF0F8\"}, \"line\": {\"color\": \"white\"}}, \"header\": {\"fill\": {\"color\": \"#C8D4E3\"}, \"line\": {\"color\": \"white\"}}, \"type\": \"table\"}]}, \"layout\": {\"annotationdefaults\": {\"arrowcolor\": \"#2a3f5f\", \"arrowhead\": 0, \"arrowwidth\": 1}, \"coloraxis\": {\"colorbar\": {\"outlinewidth\": 0, \"ticks\": \"\"}}, \"colorscale\": {\"diverging\": [[0, \"#8e0152\"], [0.1, \"#c51b7d\"], [0.2, \"#de77ae\"], [0.3, \"#f1b6da\"], [0.4, \"#fde0ef\"], [0.5, \"#f7f7f7\"], [0.6, \"#e6f5d0\"], [0.7, \"#b8e186\"], [0.8, \"#7fbc41\"], [0.9, \"#4d9221\"], [1, \"#276419\"]], \"sequential\": [[0.0, \"#0d0887\"], [0.1111111111111111, \"#46039f\"], [0.2222222222222222, \"#7201a8\"], [0.3333333333333333, \"#9c179e\"], [0.4444444444444444, \"#bd3786\"], [0.5555555555555556, \"#d8576b\"], [0.6666666666666666, \"#ed7953\"], [0.7777777777777778, \"#fb9f3a\"], [0.8888888888888888, \"#fdca26\"], [1.0, \"#f0f921\"]], \"sequentialminus\": [[0.0, \"#0d0887\"], [0.1111111111111111, \"#46039f\"], [0.2222222222222222, \"#7201a8\"], [0.3333333333333333, \"#9c179e\"], [0.4444444444444444, \"#bd3786\"], [0.5555555555555556, \"#d8576b\"], [0.6666666666666666, \"#ed7953\"], [0.7777777777777778, \"#fb9f3a\"], [0.8888888888888888, \"#fdca26\"], [1.0, \"#f0f921\"]]}, \"colorway\": [\"#636efa\", \"#EF553B\", \"#00cc96\", \"#ab63fa\", \"#FFA15A\", \"#19d3f3\", \"#FF6692\", \"#B6E880\", \"#FF97FF\", \"#FECB52\"], \"font\": {\"color\": \"#2a3f5f\"}, \"geo\": {\"bgcolor\": \"white\", \"lakecolor\": \"white\", \"landcolor\": \"#E5ECF6\", \"showlakes\": true, \"showland\": true, \"subunitcolor\": \"white\"}, \"hoverlabel\": {\"align\": \"left\"}, \"hovermode\": \"closest\", \"mapbox\": {\"style\": \"light\"}, \"paper_bgcolor\": \"white\", \"plot_bgcolor\": \"#E5ECF6\", \"polar\": {\"angularaxis\": {\"gridcolor\": \"white\", \"linecolor\": \"white\", \"ticks\": \"\"}, \"bgcolor\": \"#E5ECF6\", \"radialaxis\": {\"gridcolor\": \"white\", \"linecolor\": \"white\", \"ticks\": \"\"}}, \"scene\": {\"xaxis\": {\"backgroundcolor\": \"#E5ECF6\", \"gridcolor\": \"white\", \"gridwidth\": 2, \"linecolor\": \"white\", \"showbackground\": true, \"ticks\": \"\", \"zerolinecolor\": \"white\"}, \"yaxis\": {\"backgroundcolor\": \"#E5ECF6\", \"gridcolor\": \"white\", \"gridwidth\": 2, \"linecolor\": \"white\", \"showbackground\": true, \"ticks\": \"\", \"zerolinecolor\": \"white\"}, \"zaxis\": {\"backgroundcolor\": \"#E5ECF6\", \"gridcolor\": \"white\", \"gridwidth\": 2, \"linecolor\": \"white\", \"showbackground\": true, \"ticks\": \"\", \"zerolinecolor\": \"white\"}}, \"shapedefaults\": {\"line\": {\"color\": \"#2a3f5f\"}}, \"ternary\": {\"aaxis\": {\"gridcolor\": \"white\", \"linecolor\": \"white\", \"ticks\": \"\"}, \"baxis\": {\"gridcolor\": \"white\", \"linecolor\": \"white\", \"ticks\": \"\"}, \"bgcolor\": \"#E5ECF6\", \"caxis\": {\"gridcolor\": \"white\", \"linecolor\": \"white\", \"ticks\": \"\"}}, \"title\": {\"x\": 0.05}, \"xaxis\": {\"automargin\": true, \"gridcolor\": \"white\", \"linecolor\": \"white\", \"ticks\": \"\", \"title\": {\"standoff\": 15}, \"zerolinecolor\": \"white\", \"zerolinewidth\": 2}, \"yaxis\": {\"automargin\": true, \"gridcolor\": \"white\", \"linecolor\": \"white\", \"ticks\": \"\", \"title\": {\"standoff\": 15}, \"zerolinecolor\": \"white\", \"zerolinewidth\": 2}}}},\n",
              "                        {\"responsive\": true}\n",
              "                    ).then(function(){\n",
              "                            \n",
              "var gd = document.getElementById('0b5d49c2-eebe-42b6-9069-457ffdb4f7f4');\n",
              "var x = new MutationObserver(function (mutations, observer) {{\n",
              "        var display = window.getComputedStyle(gd).display;\n",
              "        if (!display || display === 'none') {{\n",
              "            console.log([gd, 'removed!']);\n",
              "            Plotly.purge(gd);\n",
              "            observer.disconnect();\n",
              "        }}\n",
              "}});\n",
              "\n",
              "// Listen for the removal of the full notebook cells\n",
              "var notebookContainer = gd.closest('#notebook-container');\n",
              "if (notebookContainer) {{\n",
              "    x.observe(notebookContainer, {childList: true});\n",
              "}}\n",
              "\n",
              "// Listen for the clearing of the current output cell\n",
              "var outputEl = gd.closest('.output');\n",
              "if (outputEl) {{\n",
              "    x.observe(outputEl, {childList: true});\n",
              "}}\n",
              "\n",
              "                        })\n",
              "                };\n",
              "                \n",
              "            </script>\n",
              "        </div>\n",
              "</body>\n",
              "</html>"
            ]
          },
          "metadata": {}
        }
      ]
    }
  ]
}